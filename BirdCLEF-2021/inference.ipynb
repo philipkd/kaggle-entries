{
 "cells": [
  {
   "cell_type": "markdown",
   "id": "direct-telling",
   "metadata": {
    "papermill": {
     "duration": 0.022627,
     "end_time": "2021-05-23T12:35:10.804585",
     "exception": false,
     "start_time": "2021-05-23T12:35:10.781958",
     "status": "completed"
    },
    "tags": []
   },
   "source": [
    "# Notes"
   ]
  },
  {
   "cell_type": "markdown",
   "id": "million-verse",
   "metadata": {
    "papermill": {
     "duration": 0.02245,
     "end_time": "2021-05-23T12:35:10.848615",
     "exception": false,
     "start_time": "2021-05-23T12:35:10.826165",
     "status": "completed"
    },
    "tags": []
   },
   "source": [
    "In this kenel, I'm going to use a classical **ResneSt50** for bird identification."
   ]
  },
  {
   "cell_type": "markdown",
   "id": "turned-vienna",
   "metadata": {
    "papermill": {
     "duration": 0.021037,
     "end_time": "2021-05-23T12:35:10.890914",
     "exception": false,
     "start_time": "2021-05-23T12:35:10.869877",
     "status": "completed"
    },
    "tags": []
   },
   "source": [
    "* The inference is based on these [resnest50 weights](https://www.kaggle.com/kneroma/kkiller-birdclef-models-public). Please, don't forget upvoting the dataset to make it more visible for others\n",
    "* The inference pipeline is optimized as much as I can in order to reduce execution time"
   ]
  },
  {
   "cell_type": "markdown",
   "id": "improved-stuff",
   "metadata": {
    "papermill": {
     "duration": 0.02108,
     "end_time": "2021-05-23T12:35:10.933404",
     "exception": false,
     "start_time": "2021-05-23T12:35:10.912324",
     "status": "completed"
    },
    "tags": []
   },
   "source": [
    "**If the only thing you wan't to change is `hyperparams`, please consider commenting instead of spamming with stupid forks !**"
   ]
  },
  {
   "cell_type": "markdown",
   "id": "corporate-failing",
   "metadata": {
    "papermill": {
     "duration": 0.021077,
     "end_time": "2021-05-23T12:35:10.975984",
     "exception": false,
     "start_time": "2021-05-23T12:35:10.954907",
     "status": "completed"
    },
    "tags": []
   },
   "source": [
    "<h2><font color=\"blue\">If you find this work useful, please don't forget upvoting :)</font></h2>"
   ]
  },
  {
   "cell_type": "code",
   "execution_count": null,
   "id": "revolutionary-certificate",
   "metadata": {
    "papermill": {
     "duration": 0.021652,
     "end_time": "2021-05-23T12:35:11.019057",
     "exception": false,
     "start_time": "2021-05-23T12:35:10.997405",
     "status": "completed"
    },
    "tags": []
   },
   "outputs": [],
   "source": []
  },
  {
   "cell_type": "code",
   "execution_count": 1,
   "id": "liquid-withdrawal",
   "metadata": {
    "execution": {
     "iopub.execute_input": "2021-05-23T12:35:11.078809Z",
     "iopub.status.busy": "2021-05-23T12:35:11.067627Z",
     "iopub.status.idle": "2021-05-23T12:35:11.723512Z",
     "shell.execute_reply": "2021-05-23T12:35:11.722589Z"
    },
    "id": "ikMF-nQSdTbF",
    "outputId": "041c6767-86ab-46e4-9b22-a4840121ecca",
    "papermill": {
     "duration": 0.682994,
     "end_time": "2021-05-23T12:35:11.723663",
     "exception": false,
     "start_time": "2021-05-23T12:35:11.040669",
     "status": "completed"
    },
    "tags": []
   },
   "outputs": [
    {
     "name": "stdout",
     "output_type": "stream",
     "text": [
      "Sun May 23 12:35:11 2021       \r\n",
      "+-----------------------------------------------------------------------------+\r\n",
      "| NVIDIA-SMI 450.51.06    Driver Version: 450.51.06    CUDA Version: 11.0     |\r\n",
      "|-------------------------------+----------------------+----------------------+\r\n",
      "| GPU  Name        Persistence-M| Bus-Id        Disp.A | Volatile Uncorr. ECC |\r\n",
      "| Fan  Temp  Perf  Pwr:Usage/Cap|         Memory-Usage | GPU-Util  Compute M. |\r\n",
      "|                               |                      |               MIG M. |\r\n",
      "|===============================+======================+======================|\r\n",
      "|   0  Tesla P100-PCIE...  Off  | 00000000:00:04.0 Off |                    0 |\r\n",
      "| N/A   36C    P0    29W / 250W |      0MiB / 16280MiB |      0%      Default |\r\n",
      "|                               |                      |                  N/A |\r\n",
      "+-------------------------------+----------------------+----------------------+\r\n",
      "                                                                               \r\n",
      "+-----------------------------------------------------------------------------+\r\n",
      "| Processes:                                                                  |\r\n",
      "|  GPU   GI   CI        PID   Type   Process name                  GPU Memory |\r\n",
      "|        ID   ID                                                   Usage      |\r\n",
      "|=============================================================================|\r\n",
      "|  No running processes found                                                 |\r\n",
      "+-----------------------------------------------------------------------------+\r\n"
     ]
    }
   ],
   "source": [
    "!nvidia-smi"
   ]
  },
  {
   "cell_type": "code",
   "execution_count": 2,
   "id": "neural-watershed",
   "metadata": {
    "execution": {
     "iopub.execute_input": "2021-05-23T12:35:11.778665Z",
     "iopub.status.busy": "2021-05-23T12:35:11.774397Z",
     "iopub.status.idle": "2021-05-23T12:35:39.974056Z",
     "shell.execute_reply": "2021-05-23T12:35:39.973548Z"
    },
    "papermill": {
     "duration": 28.227385,
     "end_time": "2021-05-23T12:35:39.974193",
     "exception": false,
     "start_time": "2021-05-23T12:35:11.746808",
     "status": "completed"
    },
    "tags": []
   },
   "outputs": [],
   "source": [
    "try:\n",
    "    import resnest\n",
    "except ModuleNotFoundError:\n",
    "    !pip install -q \"../input/resnest50-fast-package/resnest-0.0.6b20200701/resnest\""
   ]
  },
  {
   "cell_type": "code",
   "execution_count": null,
   "id": "magnetic-rubber",
   "metadata": {
    "papermill": {
     "duration": 0.023122,
     "end_time": "2021-05-23T12:35:40.020105",
     "exception": false,
     "start_time": "2021-05-23T12:35:39.996983",
     "status": "completed"
    },
    "tags": []
   },
   "outputs": [],
   "source": []
  },
  {
   "cell_type": "code",
   "execution_count": 3,
   "id": "illegal-running",
   "metadata": {
    "_cell_guid": "b1076dfc-b9ad-4769-8c92-a6c4dae69d19",
    "_uuid": "8f2839f25d086af736a60e9eeb907d3b93b6e0e5",
    "execution": {
     "iopub.execute_input": "2021-05-23T12:35:40.072253Z",
     "iopub.status.busy": "2021-05-23T12:35:40.071470Z",
     "iopub.status.idle": "2021-05-23T12:35:43.661983Z",
     "shell.execute_reply": "2021-05-23T12:35:43.660986Z"
    },
    "id": "kSCcqxf0c_O7",
    "papermill": {
     "duration": 3.619132,
     "end_time": "2021-05-23T12:35:43.662121",
     "exception": false,
     "start_time": "2021-05-23T12:35:40.042989",
     "status": "completed"
    },
    "tags": []
   },
   "outputs": [],
   "source": [
    "import numpy as np\n",
    "import librosa as lb\n",
    "import soundfile as sf\n",
    "import pandas as pd\n",
    "import cv2\n",
    "from pathlib import Path\n",
    "import re\n",
    "\n",
    "import torch\n",
    "from torch import nn\n",
    "from  torch.utils.data import Dataset, DataLoader\n",
    "\n",
    "from tqdm.notebook import tqdm\n",
    "\n",
    "import time\n",
    "from resnest.torch import resnest50"
   ]
  },
  {
   "cell_type": "code",
   "execution_count": null,
   "id": "harmful-portal",
   "metadata": {
    "papermill": {
     "duration": 0.021706,
     "end_time": "2021-05-23T12:35:43.706194",
     "exception": false,
     "start_time": "2021-05-23T12:35:43.684488",
     "status": "completed"
    },
    "tags": []
   },
   "outputs": [],
   "source": []
  },
  {
   "cell_type": "markdown",
   "id": "existing-oasis",
   "metadata": {
    "papermill": {
     "duration": 0.021827,
     "end_time": "2021-05-23T12:35:43.749970",
     "exception": false,
     "start_time": "2021-05-23T12:35:43.728143",
     "status": "completed"
    },
    "tags": []
   },
   "source": [
    "# Configs"
   ]
  },
  {
   "cell_type": "code",
   "execution_count": 4,
   "id": "boring-terror",
   "metadata": {
    "execution": {
     "iopub.execute_input": "2021-05-23T12:35:43.860778Z",
     "iopub.status.busy": "2021-05-23T12:35:43.860240Z",
     "iopub.status.idle": "2021-05-23T12:35:43.869360Z",
     "shell.execute_reply": "2021-05-23T12:35:43.869714Z"
    },
    "id": "rJhYZVIDc_O9",
    "papermill": {
     "duration": 0.097672,
     "end_time": "2021-05-23T12:35:43.869898",
     "exception": false,
     "start_time": "2021-05-23T12:35:43.772226",
     "status": "completed"
    },
    "tags": []
   },
   "outputs": [
    {
     "name": "stdout",
     "output_type": "stream",
     "text": [
      "DEVICE: cuda\n"
     ]
    }
   ],
   "source": [
    "NUM_CLASSES = 397\n",
    "SR = 32_000\n",
    "DURATION = 5\n",
    "THRESH = 0.23\n",
    "\n",
    "\n",
    "DEVICE = torch.device(\"cuda\" if torch.cuda.is_available() else \"cpu\")\n",
    "print(\"DEVICE:\", DEVICE)\n",
    "\n",
    "TEST_AUDIO_ROOT = Path(\"../input/birdclef-2021/test_soundscapes\")\n",
    "SAMPLE_SUB_PATH = \"../input/birdclef-2021/sample_submission.csv\"\n",
    "TARGET_PATH = None\n",
    "    \n",
    "if not len(list(TEST_AUDIO_ROOT.glob(\"*.ogg\"))):\n",
    "    # runs on sync run\n",
    "    TEST_AUDIO_ROOT = Path(\"../input/birdclef-2021/train_soundscapes\")\n",
    "    SAMPLE_SUB_PATH = None\n",
    "    # SAMPLE_SUB_PATH = \"../input/birdclef-2021/sample_submission.csv\"\n",
    "    TARGET_PATH = Path(\"../input/birdclef-2021/train_soundscape_labels.csv\")"
   ]
  },
  {
   "cell_type": "code",
   "execution_count": null,
   "id": "accessible-helen",
   "metadata": {
    "papermill": {
     "duration": 0.022472,
     "end_time": "2021-05-23T12:35:43.914885",
     "exception": false,
     "start_time": "2021-05-23T12:35:43.892413",
     "status": "completed"
    },
    "tags": []
   },
   "outputs": [],
   "source": []
  },
  {
   "cell_type": "markdown",
   "id": "rubber-tyler",
   "metadata": {
    "papermill": {
     "duration": 0.022525,
     "end_time": "2021-05-23T12:35:43.960637",
     "exception": false,
     "start_time": "2021-05-23T12:35:43.938112",
     "status": "completed"
    },
    "tags": []
   },
   "source": [
    "# Data"
   ]
  },
  {
   "cell_type": "code",
   "execution_count": 5,
   "id": "biblical-amber",
   "metadata": {
    "execution": {
     "iopub.execute_input": "2021-05-23T12:35:44.012709Z",
     "iopub.status.busy": "2021-05-23T12:35:44.012203Z",
     "iopub.status.idle": "2021-05-23T12:35:44.015784Z",
     "shell.execute_reply": "2021-05-23T12:35:44.015374Z"
    },
    "id": "4fwNhdbJc_O-",
    "papermill": {
     "duration": 0.032694,
     "end_time": "2021-05-23T12:35:44.015941",
     "exception": false,
     "start_time": "2021-05-23T12:35:43.983247",
     "status": "completed"
    },
    "tags": []
   },
   "outputs": [],
   "source": [
    "class MelSpecComputer:\n",
    "    def __init__(self, sr, n_mels, fmin, fmax, **kwargs):\n",
    "        self.sr = sr\n",
    "        self.n_mels = n_mels\n",
    "        self.fmin = fmin\n",
    "        self.fmax = fmax\n",
    "        kwargs[\"n_fft\"] = kwargs.get(\"n_fft\", self.sr//10)\n",
    "        kwargs[\"hop_length\"] = kwargs.get(\"hop_length\", self.sr//(10*4))\n",
    "        self.kwargs = kwargs\n",
    "\n",
    "    def __call__(self, y):\n",
    "\n",
    "        melspec = lb.feature.melspectrogram(\n",
    "            y, sr=self.sr, n_mels=self.n_mels, fmin=self.fmin, fmax=self.fmax, **self.kwargs,\n",
    "        )\n",
    "\n",
    "        melspec = lb.power_to_db(melspec).astype(np.float32)\n",
    "        return melspec"
   ]
  },
  {
   "cell_type": "code",
   "execution_count": 6,
   "id": "directed-florence",
   "metadata": {
    "execution": {
     "iopub.execute_input": "2021-05-23T12:35:44.068870Z",
     "iopub.status.busy": "2021-05-23T12:35:44.068350Z",
     "iopub.status.idle": "2021-05-23T12:35:44.072223Z",
     "shell.execute_reply": "2021-05-23T12:35:44.071799Z"
    },
    "id": "Nk0haSTIc_O_",
    "papermill": {
     "duration": 0.033746,
     "end_time": "2021-05-23T12:35:44.072321",
     "exception": false,
     "start_time": "2021-05-23T12:35:44.038575",
     "status": "completed"
    },
    "tags": []
   },
   "outputs": [],
   "source": [
    "def mono_to_color(X, eps=1e-6, mean=None, std=None):\n",
    "    mean = mean or X.mean()\n",
    "    std = std or X.std()\n",
    "    X = (X - mean) / (std + eps)\n",
    "    \n",
    "    _min, _max = X.min(), X.max()\n",
    "\n",
    "    if (_max - _min) > eps:\n",
    "        V = np.clip(X, _min, _max)\n",
    "        V = 255 * (V - _min) / (_max - _min)\n",
    "        V = V.astype(np.uint8)\n",
    "    else:\n",
    "        V = np.zeros_like(X, dtype=np.uint8)\n",
    "\n",
    "    return V\n",
    "\n",
    "def crop_or_pad(y, length):\n",
    "    if len(y) < length:\n",
    "        y = np.concatenate([y, length - np.zeros(len(y))])\n",
    "    elif len(y) > length:\n",
    "        y = y[:length]\n",
    "    return y"
   ]
  },
  {
   "cell_type": "code",
   "execution_count": 7,
   "id": "minus-basis",
   "metadata": {
    "execution": {
     "iopub.execute_input": "2021-05-23T12:35:44.130642Z",
     "iopub.status.busy": "2021-05-23T12:35:44.129567Z",
     "iopub.status.idle": "2021-05-23T12:35:44.132464Z",
     "shell.execute_reply": "2021-05-23T12:35:44.132059Z"
    },
    "papermill": {
     "duration": 0.037565,
     "end_time": "2021-05-23T12:35:44.132561",
     "exception": false,
     "start_time": "2021-05-23T12:35:44.094996",
     "status": "completed"
    },
    "tags": []
   },
   "outputs": [],
   "source": [
    "class BirdCLEFDataset(Dataset):\n",
    "    def __init__(self, data, sr=SR, n_mels=128, fmin=0, fmax=None, duration=DURATION, step=None, res_type=\"kaiser_fast\", resample=True):\n",
    "        \n",
    "        self.data = data\n",
    "        \n",
    "        self.sr = sr\n",
    "        self.n_mels = n_mels\n",
    "        self.fmin = fmin\n",
    "        self.fmax = fmax or self.sr//2\n",
    "\n",
    "        self.duration = duration\n",
    "        self.audio_length = self.duration*self.sr\n",
    "        self.step = step or self.audio_length\n",
    "        \n",
    "        self.res_type = res_type\n",
    "        self.resample = resample\n",
    "\n",
    "        self.mel_spec_computer = MelSpecComputer(sr=self.sr, n_mels=self.n_mels, fmin=self.fmin,\n",
    "                                                 fmax=self.fmax)\n",
    "    def __len__(self):\n",
    "        return len(self.data)\n",
    "    \n",
    "    @staticmethod\n",
    "    def normalize(image):\n",
    "        image = image.astype(\"float32\", copy=False) / 255.0\n",
    "        image = np.stack([image, image, image])\n",
    "        return image\n",
    "    \n",
    "    def audio_to_image(self, audio):\n",
    "        melspec = self.mel_spec_computer(audio) \n",
    "        image = mono_to_color(melspec)\n",
    "        image = self.normalize(image)\n",
    "        return image\n",
    "\n",
    "    def read_file(self, filepath):\n",
    "        audio, orig_sr = sf.read(filepath, dtype=\"float32\")\n",
    "\n",
    "        if self.resample and orig_sr != self.sr:\n",
    "            audio = lb.resample(audio, orig_sr, self.sr, res_type=self.res_type)\n",
    "          \n",
    "        audios = []\n",
    "        for i in range(self.audio_length, len(audio) + self.step, self.step):\n",
    "            start = max(0, i - self.audio_length)\n",
    "            end = start + self.audio_length\n",
    "            audios.append(audio[start:end])\n",
    "            \n",
    "        if len(audios[-1]) < self.audio_length:\n",
    "            audios = audios[:-1]\n",
    "            \n",
    "        images = [self.audio_to_image(audio) for audio in audios]\n",
    "        images = np.stack(images)\n",
    "        \n",
    "        return images\n",
    "    \n",
    "        \n",
    "    def __getitem__(self, idx):\n",
    "        return self.read_file(self.data.loc[idx, \"filepath\"])"
   ]
  },
  {
   "cell_type": "code",
   "execution_count": 8,
   "id": "liquid-baghdad",
   "metadata": {
    "execution": {
     "iopub.execute_input": "2021-05-23T12:35:44.182750Z",
     "iopub.status.busy": "2021-05-23T12:35:44.182242Z",
     "iopub.status.idle": "2021-05-23T12:35:44.213268Z",
     "shell.execute_reply": "2021-05-23T12:35:44.212776Z"
    },
    "id": "rVwlOrbxc_PD",
    "outputId": "9b53ec99-634a-4b30-f9b5-75036184482b",
    "papermill": {
     "duration": 0.057928,
     "end_time": "2021-05-23T12:35:44.213390",
     "exception": false,
     "start_time": "2021-05-23T12:35:44.155462",
     "status": "completed"
    },
    "tags": []
   },
   "outputs": [
    {
     "name": "stdout",
     "output_type": "stream",
     "text": [
      "(20, 5)\n"
     ]
    },
    {
     "data": {
      "text/html": [
       "<div>\n",
       "<style scoped>\n",
       "    .dataframe tbody tr th:only-of-type {\n",
       "        vertical-align: middle;\n",
       "    }\n",
       "\n",
       "    .dataframe tbody tr th {\n",
       "        vertical-align: top;\n",
       "    }\n",
       "\n",
       "    .dataframe thead th {\n",
       "        text-align: right;\n",
       "    }\n",
       "</style>\n",
       "<table border=\"1\" class=\"dataframe\">\n",
       "  <thead>\n",
       "    <tr style=\"text-align: right;\">\n",
       "      <th></th>\n",
       "      <th>filename</th>\n",
       "      <th>id</th>\n",
       "      <th>site</th>\n",
       "      <th>date</th>\n",
       "      <th>filepath</th>\n",
       "    </tr>\n",
       "  </thead>\n",
       "  <tbody>\n",
       "    <tr>\n",
       "      <th>0</th>\n",
       "      <td>20152_SSW_20170805</td>\n",
       "      <td>20152</td>\n",
       "      <td>SSW</td>\n",
       "      <td>20170805</td>\n",
       "      <td>../input/birdclef-2021/train_soundscapes/20152...</td>\n",
       "    </tr>\n",
       "    <tr>\n",
       "      <th>1</th>\n",
       "      <td>57610_COR_20190904</td>\n",
       "      <td>57610</td>\n",
       "      <td>COR</td>\n",
       "      <td>20190904</td>\n",
       "      <td>../input/birdclef-2021/train_soundscapes/57610...</td>\n",
       "    </tr>\n",
       "    <tr>\n",
       "      <th>2</th>\n",
       "      <td>7843_SSW_20170325</td>\n",
       "      <td>7843</td>\n",
       "      <td>SSW</td>\n",
       "      <td>20170325</td>\n",
       "      <td>../input/birdclef-2021/train_soundscapes/7843_...</td>\n",
       "    </tr>\n",
       "    <tr>\n",
       "      <th>3</th>\n",
       "      <td>42907_SSW_20170708</td>\n",
       "      <td>42907</td>\n",
       "      <td>SSW</td>\n",
       "      <td>20170708</td>\n",
       "      <td>../input/birdclef-2021/train_soundscapes/42907...</td>\n",
       "    </tr>\n",
       "    <tr>\n",
       "      <th>4</th>\n",
       "      <td>7019_COR_20190904</td>\n",
       "      <td>7019</td>\n",
       "      <td>COR</td>\n",
       "      <td>20190904</td>\n",
       "      <td>../input/birdclef-2021/train_soundscapes/7019_...</td>\n",
       "    </tr>\n",
       "  </tbody>\n",
       "</table>\n",
       "</div>"
      ],
      "text/plain": [
       "             filename     id site      date  \\\n",
       "0  20152_SSW_20170805  20152  SSW  20170805   \n",
       "1  57610_COR_20190904  57610  COR  20190904   \n",
       "2   7843_SSW_20170325   7843  SSW  20170325   \n",
       "3  42907_SSW_20170708  42907  SSW  20170708   \n",
       "4   7019_COR_20190904   7019  COR  20190904   \n",
       "\n",
       "                                            filepath  \n",
       "0  ../input/birdclef-2021/train_soundscapes/20152...  \n",
       "1  ../input/birdclef-2021/train_soundscapes/57610...  \n",
       "2  ../input/birdclef-2021/train_soundscapes/7843_...  \n",
       "3  ../input/birdclef-2021/train_soundscapes/42907...  \n",
       "4  ../input/birdclef-2021/train_soundscapes/7019_...  "
      ]
     },
     "execution_count": 8,
     "metadata": {},
     "output_type": "execute_result"
    }
   ],
   "source": [
    "data = pd.DataFrame(\n",
    "     [(path.stem, *path.stem.split(\"_\"), path) for path in Path(TEST_AUDIO_ROOT).glob(\"*.ogg\")],\n",
    "    columns = [\"filename\", \"id\", \"site\", \"date\", \"filepath\"]\n",
    ")\n",
    "print(data.shape)\n",
    "data.head()"
   ]
  },
  {
   "cell_type": "code",
   "execution_count": 9,
   "id": "union-preserve",
   "metadata": {
    "execution": {
     "iopub.execute_input": "2021-05-23T12:35:44.266739Z",
     "iopub.status.busy": "2021-05-23T12:35:44.266209Z",
     "iopub.status.idle": "2021-05-23T12:35:44.588348Z",
     "shell.execute_reply": "2021-05-23T12:35:44.587844Z"
    },
    "papermill": {
     "duration": 0.350588,
     "end_time": "2021-05-23T12:35:44.588491",
     "exception": false,
     "start_time": "2021-05-23T12:35:44.237903",
     "status": "completed"
    },
    "tags": []
   },
   "outputs": [],
   "source": [
    "df_train = pd.read_csv(\"../input/birdclef-2021/train_metadata.csv\")\n",
    "\n",
    "LABEL_IDS = {label: label_id for label_id,label in enumerate(sorted(df_train[\"primary_label\"].unique()))}\n",
    "INV_LABEL_IDS = {val: key for key,val in LABEL_IDS.items()}"
   ]
  },
  {
   "cell_type": "code",
   "execution_count": null,
   "id": "hazardous-victorian",
   "metadata": {
    "papermill": {
     "duration": 0.023388,
     "end_time": "2021-05-23T12:35:44.636079",
     "exception": false,
     "start_time": "2021-05-23T12:35:44.612691",
     "status": "completed"
    },
    "tags": []
   },
   "outputs": [],
   "source": []
  },
  {
   "cell_type": "markdown",
   "id": "needed-dietary",
   "metadata": {
    "id": "BNsivZZZc_PG",
    "papermill": {
     "duration": 0.023206,
     "end_time": "2021-05-23T12:35:44.683026",
     "exception": false,
     "start_time": "2021-05-23T12:35:44.659820",
     "status": "completed"
    },
    "tags": []
   },
   "source": [
    "# Inference"
   ]
  },
  {
   "cell_type": "code",
   "execution_count": 10,
   "id": "appointed-intensity",
   "metadata": {
    "execution": {
     "iopub.execute_input": "2021-05-23T12:35:44.734129Z",
     "iopub.status.busy": "2021-05-23T12:35:44.733574Z",
     "iopub.status.idle": "2021-05-23T12:35:47.676821Z",
     "shell.execute_reply": "2021-05-23T12:35:47.678028Z"
    },
    "id": "AzlOErOmc_PH",
    "papermill": {
     "duration": 2.971788,
     "end_time": "2021-05-23T12:35:47.678276",
     "exception": false,
     "start_time": "2021-05-23T12:35:44.706488",
     "status": "completed"
    },
    "tags": []
   },
   "outputs": [
    {
     "data": {
      "text/plain": [
       "(20, (120, 3, 128, 201))"
      ]
     },
     "execution_count": 10,
     "metadata": {},
     "output_type": "execute_result"
    }
   ],
   "source": [
    "test_data = BirdCLEFDataset(data=data)\n",
    "len(test_data), test_data[0].shape"
   ]
  },
  {
   "cell_type": "code",
   "execution_count": null,
   "id": "atomic-chapel",
   "metadata": {
    "papermill": {
     "duration": 0.047165,
     "end_time": "2021-05-23T12:35:47.773481",
     "exception": false,
     "start_time": "2021-05-23T12:35:47.726316",
     "status": "completed"
    },
    "tags": []
   },
   "outputs": [],
   "source": []
  },
  {
   "cell_type": "code",
   "execution_count": 11,
   "id": "published-azerbaijan",
   "metadata": {
    "execution": {
     "iopub.execute_input": "2021-05-23T12:35:47.834570Z",
     "iopub.status.busy": "2021-05-23T12:35:47.832907Z",
     "iopub.status.idle": "2021-05-23T12:35:47.835180Z",
     "shell.execute_reply": "2021-05-23T12:35:47.835554Z"
    },
    "papermill": {
     "duration": 0.032317,
     "end_time": "2021-05-23T12:35:47.835667",
     "exception": false,
     "start_time": "2021-05-23T12:35:47.803350",
     "status": "completed"
    },
    "tags": []
   },
   "outputs": [],
   "source": [
    "def load_net(checkpoint_path, num_classes=NUM_CLASSES):\n",
    "    net = resnest50(pretrained=False)\n",
    "    net.fc = nn.Linear(net.fc.in_features, num_classes)\n",
    "    dummy_device = torch.device(\"cpu\")\n",
    "    d = torch.load(checkpoint_path, map_location=dummy_device)\n",
    "    for key in list(d.keys()):\n",
    "        d[key.replace(\"model.\", \"\")] = d.pop(key)\n",
    "    net.load_state_dict(d)\n",
    "    net = net.to(DEVICE)\n",
    "    net = net.eval()\n",
    "    return net"
   ]
  },
  {
   "cell_type": "code",
   "execution_count": 12,
   "id": "sustained-programmer",
   "metadata": {
    "execution": {
     "iopub.execute_input": "2021-05-23T12:35:47.887311Z",
     "iopub.status.busy": "2021-05-23T12:35:47.886723Z",
     "iopub.status.idle": "2021-05-23T12:35:54.210460Z",
     "shell.execute_reply": "2021-05-23T12:35:54.211595Z"
    },
    "id": "ayVLRTzLc_PI",
    "papermill": {
     "duration": 6.35241,
     "end_time": "2021-05-23T12:35:54.211845",
     "exception": false,
     "start_time": "2021-05-23T12:35:47.859435",
     "status": "completed"
    },
    "tags": []
   },
   "outputs": [],
   "source": [
    "\n",
    "checkpoint_paths = [\n",
    "    Path(\"../input/k2-baselines/secondl1-birdclef_resnest50_fold0_epoch_08_f1_val_07132_20210523095829.pth\"),\n",
    "]\n",
    "\n",
    "\n",
    "nets = [\n",
    "        load_net(checkpoint_path.as_posix()) for checkpoint_path in checkpoint_paths\n",
    "]"
   ]
  },
  {
   "cell_type": "code",
   "execution_count": null,
   "id": "respective-sydney",
   "metadata": {
    "papermill": {
     "duration": 0.040287,
     "end_time": "2021-05-23T12:35:54.302471",
     "exception": false,
     "start_time": "2021-05-23T12:35:54.262184",
     "status": "completed"
    },
    "tags": []
   },
   "outputs": [],
   "source": []
  },
  {
   "cell_type": "code",
   "execution_count": 13,
   "id": "exceptional-quality",
   "metadata": {
    "execution": {
     "iopub.execute_input": "2021-05-23T12:35:54.380879Z",
     "iopub.status.busy": "2021-05-23T12:35:54.379811Z",
     "iopub.status.idle": "2021-05-23T12:35:54.389318Z",
     "shell.execute_reply": "2021-05-23T12:35:54.388697Z"
    },
    "papermill": {
     "duration": 0.0531,
     "end_time": "2021-05-23T12:35:54.389471",
     "exception": false,
     "start_time": "2021-05-23T12:35:54.336371",
     "status": "completed"
    },
    "tags": []
   },
   "outputs": [],
   "source": [
    "@torch.no_grad()\n",
    "def get_thresh_preds(out, thresh=None):\n",
    "    thresh = thresh or THRESH\n",
    "    o = (-out).argsort(1)\n",
    "    npreds = (out > thresh).sum(1)\n",
    "    preds = []\n",
    "    for oo, npred in zip(o, npreds):\n",
    "        preds.append(oo[:npred].cpu().numpy().tolist())\n",
    "    return preds"
   ]
  },
  {
   "cell_type": "code",
   "execution_count": 14,
   "id": "about-criticism",
   "metadata": {
    "execution": {
     "iopub.execute_input": "2021-05-23T12:35:54.477631Z",
     "iopub.status.busy": "2021-05-23T12:35:54.476120Z",
     "iopub.status.idle": "2021-05-23T12:35:54.478438Z",
     "shell.execute_reply": "2021-05-23T12:35:54.479039Z"
    },
    "papermill": {
     "duration": 0.049685,
     "end_time": "2021-05-23T12:35:54.479209",
     "exception": false,
     "start_time": "2021-05-23T12:35:54.429524",
     "status": "completed"
    },
    "tags": []
   },
   "outputs": [],
   "source": [
    "def get_bird_names(preds):\n",
    "    bird_names = []\n",
    "    for pred in preds:\n",
    "        if not pred:\n",
    "            bird_names.append(\"nocall\")\n",
    "        else:\n",
    "            bird_names.append(\" \".join([INV_LABEL_IDS[bird_id] for bird_id in pred]))\n",
    "    return bird_names"
   ]
  },
  {
   "cell_type": "code",
   "execution_count": null,
   "id": "accompanied-irish",
   "metadata": {
    "papermill": {
     "duration": 0.039502,
     "end_time": "2021-05-23T12:35:54.558955",
     "exception": false,
     "start_time": "2021-05-23T12:35:54.519453",
     "status": "completed"
    },
    "tags": []
   },
   "outputs": [],
   "source": []
  },
  {
   "cell_type": "code",
   "execution_count": 15,
   "id": "lined-costs",
   "metadata": {
    "execution": {
     "iopub.execute_input": "2021-05-23T12:35:54.647316Z",
     "iopub.status.busy": "2021-05-23T12:35:54.646587Z",
     "iopub.status.idle": "2021-05-23T12:35:54.651449Z",
     "shell.execute_reply": "2021-05-23T12:35:54.650863Z"
    },
    "papermill": {
     "duration": 0.052053,
     "end_time": "2021-05-23T12:35:54.651591",
     "exception": false,
     "start_time": "2021-05-23T12:35:54.599538",
     "status": "completed"
    },
    "tags": []
   },
   "outputs": [],
   "source": [
    "def predict(nets, test_data, names=True):\n",
    "    preds = []\n",
    "    with torch.no_grad():\n",
    "        for idx in  tqdm(list(range(len(test_data)))):\n",
    "            xb = torch.from_numpy(test_data[idx]).to(DEVICE)\n",
    "            pred = 0.\n",
    "            for net in nets:\n",
    "                o = net(xb)\n",
    "                o = torch.sigmoid(o)\n",
    "\n",
    "                pred += o\n",
    "\n",
    "            pred /= len(nets)\n",
    "            \n",
    "            if names:\n",
    "                pred = get_bird_names(get_thresh_preds(pred))\n",
    "\n",
    "            preds.append(pred)\n",
    "    return preds"
   ]
  },
  {
   "cell_type": "code",
   "execution_count": 16,
   "id": "essential-pierre",
   "metadata": {
    "execution": {
     "iopub.execute_input": "2021-05-23T12:35:54.737088Z",
     "iopub.status.busy": "2021-05-23T12:35:54.736392Z",
     "iopub.status.idle": "2021-05-23T12:36:55.629587Z",
     "shell.execute_reply": "2021-05-23T12:36:55.625183Z"
    },
    "papermill": {
     "duration": 60.937824,
     "end_time": "2021-05-23T12:36:55.629828",
     "exception": false,
     "start_time": "2021-05-23T12:35:54.692004",
     "status": "completed"
    },
    "tags": []
   },
   "outputs": [
    {
     "data": {
      "application/vnd.jupyter.widget-view+json": {
       "model_id": "b2d21b4e2e2a433ba0830934c02717e8",
       "version_major": 2,
       "version_minor": 0
      },
      "text/plain": [
       "  0%|          | 0/20 [00:00<?, ?it/s]"
      ]
     },
     "metadata": {},
     "output_type": "display_data"
    },
    {
     "name": "stdout",
     "output_type": "stream",
     "text": [
      "20\n"
     ]
    }
   ],
   "source": [
    "pred_probas = predict(nets, test_data, names=False)\n",
    "print(len(pred_probas))"
   ]
  },
  {
   "cell_type": "code",
   "execution_count": 17,
   "id": "moving-defensive",
   "metadata": {
    "execution": {
     "iopub.execute_input": "2021-05-23T12:36:55.694520Z",
     "iopub.status.busy": "2021-05-23T12:36:55.694004Z",
     "iopub.status.idle": "2021-05-23T12:36:55.789580Z",
     "shell.execute_reply": "2021-05-23T12:36:55.789135Z"
    },
    "papermill": {
     "duration": 0.126154,
     "end_time": "2021-05-23T12:36:55.789687",
     "exception": false,
     "start_time": "2021-05-23T12:36:55.663533",
     "status": "completed"
    },
    "tags": []
   },
   "outputs": [],
   "source": [
    "preds = [get_bird_names(get_thresh_preds(pred, thresh=THRESH)) for pred in pred_probas]\n",
    "# preds[:2]"
   ]
  },
  {
   "cell_type": "code",
   "execution_count": null,
   "id": "photographic-staff",
   "metadata": {
    "papermill": {
     "duration": 0.02554,
     "end_time": "2021-05-23T12:36:55.841476",
     "exception": false,
     "start_time": "2021-05-23T12:36:55.815936",
     "status": "completed"
    },
    "tags": []
   },
   "outputs": [],
   "source": []
  },
  {
   "cell_type": "code",
   "execution_count": 18,
   "id": "allied-league",
   "metadata": {
    "execution": {
     "iopub.execute_input": "2021-05-23T12:36:55.898341Z",
     "iopub.status.busy": "2021-05-23T12:36:55.897808Z",
     "iopub.status.idle": "2021-05-23T12:36:55.901438Z",
     "shell.execute_reply": "2021-05-23T12:36:55.900982Z"
    },
    "papermill": {
     "duration": 0.034841,
     "end_time": "2021-05-23T12:36:55.901536",
     "exception": false,
     "start_time": "2021-05-23T12:36:55.866695",
     "status": "completed"
    },
    "tags": []
   },
   "outputs": [],
   "source": [
    "def preds_as_df(data, preds):\n",
    "    sub = {\n",
    "        \"row_id\": [],\n",
    "        \"birds\": [],\n",
    "    }\n",
    "    \n",
    "    for row, pred in zip(data.itertuples(False), preds):\n",
    "        row_id = [f\"{row.id}_{row.site}_{5*i}\" for i in range(1, len(pred)+1)]\n",
    "        sub[\"birds\"] += pred\n",
    "        sub[\"row_id\"] += row_id\n",
    "        \n",
    "    sub = pd.DataFrame(sub)\n",
    "    \n",
    "    if SAMPLE_SUB_PATH:\n",
    "        sample_sub = pd.read_csv(SAMPLE_SUB_PATH, usecols=[\"row_id\"])\n",
    "        sub = sample_sub.merge(sub, on=\"row_id\", how=\"left\")\n",
    "        sub[\"birds\"] = sub[\"birds\"].fillna(\"nocall\")\n",
    "    return sub"
   ]
  },
  {
   "cell_type": "code",
   "execution_count": 19,
   "id": "frank-indie",
   "metadata": {
    "execution": {
     "iopub.execute_input": "2021-05-23T12:36:55.966475Z",
     "iopub.status.busy": "2021-05-23T12:36:55.965702Z",
     "iopub.status.idle": "2021-05-23T12:36:55.970024Z",
     "shell.execute_reply": "2021-05-23T12:36:55.970414Z"
    },
    "papermill": {
     "duration": 0.043016,
     "end_time": "2021-05-23T12:36:55.970533",
     "exception": false,
     "start_time": "2021-05-23T12:36:55.927517",
     "status": "completed"
    },
    "tags": []
   },
   "outputs": [
    {
     "name": "stdout",
     "output_type": "stream",
     "text": [
      "(2400, 2)\n"
     ]
    },
    {
     "data": {
      "text/html": [
       "<div>\n",
       "<style scoped>\n",
       "    .dataframe tbody tr th:only-of-type {\n",
       "        vertical-align: middle;\n",
       "    }\n",
       "\n",
       "    .dataframe tbody tr th {\n",
       "        vertical-align: top;\n",
       "    }\n",
       "\n",
       "    .dataframe thead th {\n",
       "        text-align: right;\n",
       "    }\n",
       "</style>\n",
       "<table border=\"1\" class=\"dataframe\">\n",
       "  <thead>\n",
       "    <tr style=\"text-align: right;\">\n",
       "      <th></th>\n",
       "      <th>row_id</th>\n",
       "      <th>birds</th>\n",
       "    </tr>\n",
       "  </thead>\n",
       "  <tbody>\n",
       "    <tr>\n",
       "      <th>0</th>\n",
       "      <td>20152_SSW_5</td>\n",
       "      <td>nocall</td>\n",
       "    </tr>\n",
       "    <tr>\n",
       "      <th>1</th>\n",
       "      <td>20152_SSW_10</td>\n",
       "      <td>nocall</td>\n",
       "    </tr>\n",
       "    <tr>\n",
       "      <th>2</th>\n",
       "      <td>20152_SSW_15</td>\n",
       "      <td>nocall</td>\n",
       "    </tr>\n",
       "    <tr>\n",
       "      <th>3</th>\n",
       "      <td>20152_SSW_20</td>\n",
       "      <td>nocall</td>\n",
       "    </tr>\n",
       "    <tr>\n",
       "      <th>4</th>\n",
       "      <td>20152_SSW_25</td>\n",
       "      <td>nocall</td>\n",
       "    </tr>\n",
       "    <tr>\n",
       "      <th>...</th>\n",
       "      <td>...</td>\n",
       "      <td>...</td>\n",
       "    </tr>\n",
       "    <tr>\n",
       "      <th>2395</th>\n",
       "      <td>26709_SSW_580</td>\n",
       "      <td>nocall</td>\n",
       "    </tr>\n",
       "    <tr>\n",
       "      <th>2396</th>\n",
       "      <td>26709_SSW_585</td>\n",
       "      <td>nocall</td>\n",
       "    </tr>\n",
       "    <tr>\n",
       "      <th>2397</th>\n",
       "      <td>26709_SSW_590</td>\n",
       "      <td>nocall</td>\n",
       "    </tr>\n",
       "    <tr>\n",
       "      <th>2398</th>\n",
       "      <td>26709_SSW_595</td>\n",
       "      <td>nocall</td>\n",
       "    </tr>\n",
       "    <tr>\n",
       "      <th>2399</th>\n",
       "      <td>26709_SSW_600</td>\n",
       "      <td>nocall</td>\n",
       "    </tr>\n",
       "  </tbody>\n",
       "</table>\n",
       "<p>2400 rows × 2 columns</p>\n",
       "</div>"
      ],
      "text/plain": [
       "             row_id   birds\n",
       "0       20152_SSW_5  nocall\n",
       "1      20152_SSW_10  nocall\n",
       "2      20152_SSW_15  nocall\n",
       "3      20152_SSW_20  nocall\n",
       "4      20152_SSW_25  nocall\n",
       "...             ...     ...\n",
       "2395  26709_SSW_580  nocall\n",
       "2396  26709_SSW_585  nocall\n",
       "2397  26709_SSW_590  nocall\n",
       "2398  26709_SSW_595  nocall\n",
       "2399  26709_SSW_600  nocall\n",
       "\n",
       "[2400 rows x 2 columns]"
      ]
     },
     "execution_count": 19,
     "metadata": {},
     "output_type": "execute_result"
    }
   ],
   "source": [
    "sub = preds_as_df(data, preds)\n",
    "print(sub.shape)\n",
    "sub"
   ]
  },
  {
   "cell_type": "code",
   "execution_count": 20,
   "id": "documentary-founder",
   "metadata": {
    "execution": {
     "iopub.execute_input": "2021-05-23T12:36:56.026492Z",
     "iopub.status.busy": "2021-05-23T12:36:56.025721Z",
     "iopub.status.idle": "2021-05-23T12:36:56.167470Z",
     "shell.execute_reply": "2021-05-23T12:36:56.166999Z"
    },
    "papermill": {
     "duration": 0.171011,
     "end_time": "2021-05-23T12:36:56.167617",
     "exception": false,
     "start_time": "2021-05-23T12:36:55.996606",
     "status": "completed"
    },
    "tags": []
   },
   "outputs": [],
   "source": [
    "sub.to_csv(\"submission.csv\", index=False)"
   ]
  },
  {
   "cell_type": "code",
   "execution_count": null,
   "id": "controlling-overhead",
   "metadata": {
    "papermill": {
     "duration": 0.026444,
     "end_time": "2021-05-23T12:36:56.220921",
     "exception": false,
     "start_time": "2021-05-23T12:36:56.194477",
     "status": "completed"
    },
    "tags": []
   },
   "outputs": [],
   "source": []
  },
  {
   "cell_type": "markdown",
   "id": "informational-calculation",
   "metadata": {
    "papermill": {
     "duration": 0.026082,
     "end_time": "2021-05-23T12:36:56.273408",
     "exception": false,
     "start_time": "2021-05-23T12:36:56.247326",
     "status": "completed"
    },
    "tags": []
   },
   "source": [
    "# Small validation"
   ]
  },
  {
   "cell_type": "code",
   "execution_count": 21,
   "id": "descending-reach",
   "metadata": {
    "execution": {
     "iopub.execute_input": "2021-05-23T12:36:56.333274Z",
     "iopub.status.busy": "2021-05-23T12:36:56.331934Z",
     "iopub.status.idle": "2021-05-23T12:36:56.334841Z",
     "shell.execute_reply": "2021-05-23T12:36:56.334417Z"
    },
    "papermill": {
     "duration": 0.034874,
     "end_time": "2021-05-23T12:36:56.334944",
     "exception": false,
     "start_time": "2021-05-23T12:36:56.300070",
     "status": "completed"
    },
    "tags": []
   },
   "outputs": [],
   "source": [
    "def get_metrics(s_true, s_pred):\n",
    "    s_true = set(s_true.split())\n",
    "    s_pred = set(s_pred.split())\n",
    "    n, n_true, n_pred = len(s_true.intersection(s_pred)), len(s_true), len(s_pred)\n",
    "    \n",
    "    prec = n/n_pred\n",
    "    rec = n/n_true\n",
    "    f1 = 2*prec*rec/(prec + rec) if prec + rec else 0\n",
    "    \n",
    "    return {\"f1\": f1, \"prec\": prec, \"rec\": rec, \"n_label\": n_true, \"n_pred\": n_pred, \"n_match\": n}"
   ]
  },
  {
   "cell_type": "code",
   "execution_count": 22,
   "id": "daily-haven",
   "metadata": {
    "execution": {
     "iopub.execute_input": "2021-05-23T12:36:56.399026Z",
     "iopub.status.busy": "2021-05-23T12:36:56.398483Z",
     "iopub.status.idle": "2021-05-23T12:36:56.451718Z",
     "shell.execute_reply": "2021-05-23T12:36:56.451258Z"
    },
    "papermill": {
     "duration": 0.090371,
     "end_time": "2021-05-23T12:36:56.451889",
     "exception": false,
     "start_time": "2021-05-23T12:36:56.361518",
     "status": "completed"
    },
    "tags": []
   },
   "outputs": [
    {
     "name": "stdout",
     "output_type": "stream",
     "text": [
      "2400 2400\n",
      "THRESH: 0.23\n",
      "=== standard matches ===\n",
      "f1         0.713806\n",
      "prec       0.727500\n",
      "rec        0.709806\n",
      "n_label    1.130000\n",
      "n_pred     1.031250\n",
      "n_match    0.743750\n",
      "dtype: float64\n",
      "=== bird matches ===\n",
      "f1         0.303253\n",
      "prec       0.340987\n",
      "rec        0.292231\n",
      "n_label    1.358209\n",
      "n_pred     1.080367\n",
      "n_match    0.385763\n",
      "dtype: float64\n",
      "=== nocall matches ===\n",
      "f1         0.947678\n",
      "prec       0.947678\n",
      "rec        0.947678\n",
      "n_label    1.000000\n",
      "n_pred     1.003270\n",
      "n_match    0.947678\n",
      "dtype: float64\n"
     ]
    }
   ],
   "source": [
    "if TARGET_PATH:\n",
    "    sub_target = pd.read_csv(TARGET_PATH)\n",
    "    sub_target = sub_target.merge(sub, how=\"left\", on=\"row_id\")\n",
    "    \n",
    "    print(sub_target[\"birds_x\"].notnull().sum(), sub_target[\"birds_x\"].notnull().sum())\n",
    "    assert sub_target[\"birds_x\"].notnull().all()\n",
    "    assert sub_target[\"birds_y\"].notnull().all()\n",
    "    \n",
    "    df_metrics = pd.DataFrame([get_metrics(s_true, s_pred) for s_true, s_pred in zip(sub_target.birds_x, sub_target.birds_y)])\n",
    "\n",
    "    print(f\"THRESH: {THRESH}\")\n",
    "    print('=== standard matches ===')\n",
    "    print(df_metrics.mean())\n",
    "    \n",
    "    birds_only = sub_target[(sub_target['birds_x'] != 'nocall')]\n",
    "\n",
    "    bo_metrics = pd.DataFrame([get_metrics(s_true, s_pred) for s_true, s_pred in zip(birds_only.birds_x, birds_only.birds_y)])\n",
    "    print('=== bird matches ===')\n",
    "    print(bo_metrics.mean())\n",
    "    \n",
    "    nocall_only = sub_target[(sub_target['birds_x'] == 'nocall')]\n",
    "    nocall_metrics = pd.DataFrame([get_metrics(s_true, s_pred) for s_true, s_pred in zip(nocall_only.birds_x, nocall_only.birds_y)])\n",
    "    print('=== nocall matches ===')\n",
    "    print(nocall_metrics.mean())"
   ]
  },
  {
   "cell_type": "code",
   "execution_count": null,
   "id": "reflected-decrease",
   "metadata": {
    "papermill": {
     "duration": 0.027307,
     "end_time": "2021-05-23T12:36:56.507346",
     "exception": false,
     "start_time": "2021-05-23T12:36:56.480039",
     "status": "completed"
    },
    "tags": []
   },
   "outputs": [],
   "source": []
  }
 ],
 "metadata": {
  "kernelspec": {
   "display_name": "Python 3",
   "language": "python",
   "name": "python3"
  },
  "language_info": {
   "codemirror_mode": {
    "name": "ipython",
    "version": 3
   },
   "file_extension": ".py",
   "mimetype": "text/x-python",
   "name": "python",
   "nbconvert_exporter": "python",
   "pygments_lexer": "ipython3",
   "version": "3.7.9"
  },
  "papermill": {
   "default_parameters": {},
   "duration": 112.726035,
   "end_time": "2021-05-23T12:36:58.538354",
   "environment_variables": {},
   "exception": null,
   "input_path": "__notebook__.ipynb",
   "output_path": "__notebook__.ipynb",
   "parameters": {},
   "start_time": "2021-05-23T12:35:05.812319",
   "version": "2.3.2"
  },
  "widgets": {
   "application/vnd.jupyter.widget-state+json": {
    "state": {
     "1eb722cfdb1c4d2abb2fefdda948642d": {
      "model_module": "@jupyter-widgets/base",
      "model_module_version": "1.2.0",
      "model_name": "LayoutModel",
      "state": {
       "_model_module": "@jupyter-widgets/base",
       "_model_module_version": "1.2.0",
       "_model_name": "LayoutModel",
       "_view_count": null,
       "_view_module": "@jupyter-widgets/base",
       "_view_module_version": "1.2.0",
       "_view_name": "LayoutView",
       "align_content": null,
       "align_items": null,
       "align_self": null,
       "border": null,
       "bottom": null,
       "display": null,
       "flex": null,
       "flex_flow": null,
       "grid_area": null,
       "grid_auto_columns": null,
       "grid_auto_flow": null,
       "grid_auto_rows": null,
       "grid_column": null,
       "grid_gap": null,
       "grid_row": null,
       "grid_template_areas": null,
       "grid_template_columns": null,
       "grid_template_rows": null,
       "height": null,
       "justify_content": null,
       "justify_items": null,
       "left": null,
       "margin": null,
       "max_height": null,
       "max_width": null,
       "min_height": null,
       "min_width": null,
       "object_fit": null,
       "object_position": null,
       "order": null,
       "overflow": null,
       "overflow_x": null,
       "overflow_y": null,
       "padding": null,
       "right": null,
       "top": null,
       "visibility": null,
       "width": null
      }
     },
     "4a3c67852f854fa988fef0b3e37324c0": {
      "model_module": "@jupyter-widgets/base",
      "model_module_version": "1.2.0",
      "model_name": "LayoutModel",
      "state": {
       "_model_module": "@jupyter-widgets/base",
       "_model_module_version": "1.2.0",
       "_model_name": "LayoutModel",
       "_view_count": null,
       "_view_module": "@jupyter-widgets/base",
       "_view_module_version": "1.2.0",
       "_view_name": "LayoutView",
       "align_content": null,
       "align_items": null,
       "align_self": null,
       "border": null,
       "bottom": null,
       "display": null,
       "flex": null,
       "flex_flow": null,
       "grid_area": null,
       "grid_auto_columns": null,
       "grid_auto_flow": null,
       "grid_auto_rows": null,
       "grid_column": null,
       "grid_gap": null,
       "grid_row": null,
       "grid_template_areas": null,
       "grid_template_columns": null,
       "grid_template_rows": null,
       "height": null,
       "justify_content": null,
       "justify_items": null,
       "left": null,
       "margin": null,
       "max_height": null,
       "max_width": null,
       "min_height": null,
       "min_width": null,
       "object_fit": null,
       "object_position": null,
       "order": null,
       "overflow": null,
       "overflow_x": null,
       "overflow_y": null,
       "padding": null,
       "right": null,
       "top": null,
       "visibility": null,
       "width": null
      }
     },
     "53316f0c39554716b6fe79e256df4935": {
      "model_module": "@jupyter-widgets/base",
      "model_module_version": "1.2.0",
      "model_name": "LayoutModel",
      "state": {
       "_model_module": "@jupyter-widgets/base",
       "_model_module_version": "1.2.0",
       "_model_name": "LayoutModel",
       "_view_count": null,
       "_view_module": "@jupyter-widgets/base",
       "_view_module_version": "1.2.0",
       "_view_name": "LayoutView",
       "align_content": null,
       "align_items": null,
       "align_self": null,
       "border": null,
       "bottom": null,
       "display": null,
       "flex": null,
       "flex_flow": null,
       "grid_area": null,
       "grid_auto_columns": null,
       "grid_auto_flow": null,
       "grid_auto_rows": null,
       "grid_column": null,
       "grid_gap": null,
       "grid_row": null,
       "grid_template_areas": null,
       "grid_template_columns": null,
       "grid_template_rows": null,
       "height": null,
       "justify_content": null,
       "justify_items": null,
       "left": null,
       "margin": null,
       "max_height": null,
       "max_width": null,
       "min_height": null,
       "min_width": null,
       "object_fit": null,
       "object_position": null,
       "order": null,
       "overflow": null,
       "overflow_x": null,
       "overflow_y": null,
       "padding": null,
       "right": null,
       "top": null,
       "visibility": null,
       "width": null
      }
     },
     "5cfa6f6080f9494a9df15804e6752f09": {
      "model_module": "@jupyter-widgets/controls",
      "model_module_version": "1.5.0",
      "model_name": "DescriptionStyleModel",
      "state": {
       "_model_module": "@jupyter-widgets/controls",
       "_model_module_version": "1.5.0",
       "_model_name": "DescriptionStyleModel",
       "_view_count": null,
       "_view_module": "@jupyter-widgets/base",
       "_view_module_version": "1.2.0",
       "_view_name": "StyleView",
       "description_width": ""
      }
     },
     "683f98f51e6d48f0a326e2955b2b1694": {
      "model_module": "@jupyter-widgets/base",
      "model_module_version": "1.2.0",
      "model_name": "LayoutModel",
      "state": {
       "_model_module": "@jupyter-widgets/base",
       "_model_module_version": "1.2.0",
       "_model_name": "LayoutModel",
       "_view_count": null,
       "_view_module": "@jupyter-widgets/base",
       "_view_module_version": "1.2.0",
       "_view_name": "LayoutView",
       "align_content": null,
       "align_items": null,
       "align_self": null,
       "border": null,
       "bottom": null,
       "display": null,
       "flex": null,
       "flex_flow": null,
       "grid_area": null,
       "grid_auto_columns": null,
       "grid_auto_flow": null,
       "grid_auto_rows": null,
       "grid_column": null,
       "grid_gap": null,
       "grid_row": null,
       "grid_template_areas": null,
       "grid_template_columns": null,
       "grid_template_rows": null,
       "height": null,
       "justify_content": null,
       "justify_items": null,
       "left": null,
       "margin": null,
       "max_height": null,
       "max_width": null,
       "min_height": null,
       "min_width": null,
       "object_fit": null,
       "object_position": null,
       "order": null,
       "overflow": null,
       "overflow_x": null,
       "overflow_y": null,
       "padding": null,
       "right": null,
       "top": null,
       "visibility": null,
       "width": null
      }
     },
     "8437eb0df5bc433b9056fa90c6fcca47": {
      "model_module": "@jupyter-widgets/controls",
      "model_module_version": "1.5.0",
      "model_name": "DescriptionStyleModel",
      "state": {
       "_model_module": "@jupyter-widgets/controls",
       "_model_module_version": "1.5.0",
       "_model_name": "DescriptionStyleModel",
       "_view_count": null,
       "_view_module": "@jupyter-widgets/base",
       "_view_module_version": "1.2.0",
       "_view_name": "StyleView",
       "description_width": ""
      }
     },
     "844a6b56037941ec9cbdf42f72173efe": {
      "model_module": "@jupyter-widgets/controls",
      "model_module_version": "1.5.0",
      "model_name": "HTMLModel",
      "state": {
       "_dom_classes": [],
       "_model_module": "@jupyter-widgets/controls",
       "_model_module_version": "1.5.0",
       "_model_name": "HTMLModel",
       "_view_count": null,
       "_view_module": "@jupyter-widgets/controls",
       "_view_module_version": "1.5.0",
       "_view_name": "HTMLView",
       "description": "",
       "description_tooltip": null,
       "layout": "IPY_MODEL_53316f0c39554716b6fe79e256df4935",
       "placeholder": "​",
       "style": "IPY_MODEL_5cfa6f6080f9494a9df15804e6752f09",
       "value": "100%"
      }
     },
     "8cfc48deac6e4dcaa09c14b3d5ad2354": {
      "model_module": "@jupyter-widgets/controls",
      "model_module_version": "1.5.0",
      "model_name": "ProgressStyleModel",
      "state": {
       "_model_module": "@jupyter-widgets/controls",
       "_model_module_version": "1.5.0",
       "_model_name": "ProgressStyleModel",
       "_view_count": null,
       "_view_module": "@jupyter-widgets/base",
       "_view_module_version": "1.2.0",
       "_view_name": "StyleView",
       "bar_color": null,
       "description_width": ""
      }
     },
     "b2d21b4e2e2a433ba0830934c02717e8": {
      "model_module": "@jupyter-widgets/controls",
      "model_module_version": "1.5.0",
      "model_name": "HBoxModel",
      "state": {
       "_dom_classes": [],
       "_model_module": "@jupyter-widgets/controls",
       "_model_module_version": "1.5.0",
       "_model_name": "HBoxModel",
       "_view_count": null,
       "_view_module": "@jupyter-widgets/controls",
       "_view_module_version": "1.5.0",
       "_view_name": "HBoxView",
       "box_style": "",
       "children": [
        "IPY_MODEL_844a6b56037941ec9cbdf42f72173efe",
        "IPY_MODEL_dc9674df4f184c22b228aecba6fab887",
        "IPY_MODEL_da8f6df08b8149fba0218b4fd1d57f9a"
       ],
       "layout": "IPY_MODEL_4a3c67852f854fa988fef0b3e37324c0"
      }
     },
     "da8f6df08b8149fba0218b4fd1d57f9a": {
      "model_module": "@jupyter-widgets/controls",
      "model_module_version": "1.5.0",
      "model_name": "HTMLModel",
      "state": {
       "_dom_classes": [],
       "_model_module": "@jupyter-widgets/controls",
       "_model_module_version": "1.5.0",
       "_model_name": "HTMLModel",
       "_view_count": null,
       "_view_module": "@jupyter-widgets/controls",
       "_view_module_version": "1.5.0",
       "_view_name": "HTMLView",
       "description": "",
       "description_tooltip": null,
       "layout": "IPY_MODEL_683f98f51e6d48f0a326e2955b2b1694",
       "placeholder": "​",
       "style": "IPY_MODEL_8437eb0df5bc433b9056fa90c6fcca47",
       "value": " 20/20 [01:00&lt;00:00,  3.05s/it]"
      }
     },
     "dc9674df4f184c22b228aecba6fab887": {
      "model_module": "@jupyter-widgets/controls",
      "model_module_version": "1.5.0",
      "model_name": "FloatProgressModel",
      "state": {
       "_dom_classes": [],
       "_model_module": "@jupyter-widgets/controls",
       "_model_module_version": "1.5.0",
       "_model_name": "FloatProgressModel",
       "_view_count": null,
       "_view_module": "@jupyter-widgets/controls",
       "_view_module_version": "1.5.0",
       "_view_name": "ProgressView",
       "bar_style": "success",
       "description": "",
       "description_tooltip": null,
       "layout": "IPY_MODEL_1eb722cfdb1c4d2abb2fefdda948642d",
       "max": 20.0,
       "min": 0.0,
       "orientation": "horizontal",
       "style": "IPY_MODEL_8cfc48deac6e4dcaa09c14b3d5ad2354",
       "value": 20.0
      }
     }
    },
    "version_major": 2,
    "version_minor": 0
   }
  }
 },
 "nbformat": 4,
 "nbformat_minor": 5
}
